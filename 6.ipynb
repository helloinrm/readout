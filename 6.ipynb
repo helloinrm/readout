{
 "cells": [
  {
   "cell_type": "code",
   "execution_count": 2,
   "id": "842d488a",
   "metadata": {},
   "outputs": [],
   "source": [
    "import numpy as np\n",
    "import random\n",
    "from random import randint\n",
    "import string\n",
    "from math import pi\n",
    "import math\n",
    "import time\n",
    "import matplotlib.pyplot as plt\n",
    "%matplotlib inline\n",
    "# Importing standard Qiskit libraries\n",
    "from qiskit import QuantumCircuit, transpile, execute, Aer, IBMQ, QuantumRegister,ClassicalRegister\n",
    "from qiskit.compiler import transpile, assemble\n",
    "from qiskit.tools.jupyter import *\n",
    "from qiskit.visualization import *\n",
    "from ibm_quantum_widgets import *\n",
    "from qiskit.quantum_info import Statevector, random_statevector, state_fidelity\n",
    "from qiskit.aqua.utils import tensorproduct\n",
    "from qiskit.providers.ibmq import least_busy\n",
    "from qiskit.providers.aer.noise import NoiseModel, ReadoutError\n",
    "from qiskit.providers.aer.noise.device import basic_device_readout_errors\n",
    "from qiskit.circuit.library import MCMT, RYGate\n",
    "import pandas as pd\n",
    "# Loading your IBM Q account(s)\n",
    "provider = IBMQ.load_account()\n"
   ]
  },
  {
   "cell_type": "code",
   "execution_count": 6,
   "id": "590ccdc4",
   "metadata": {},
   "outputs": [],
   "source": [
    "# dcount=dresult.get_counts(dqc)"
   ]
  },
  {
   "cell_type": "code",
   "execution_count": 10,
   "id": "7121084b",
   "metadata": {},
   "outputs": [
    {
     "name": "stdout",
     "output_type": "stream",
     "text": [
      "['00']\n"
     ]
    }
   ],
   "source": [
    "\n",
    "# print(count2list(dcount))\n",
    "# # for i in dcount.keys():\n",
    "# #     print(i)\n",
    "# #     print(dcount[i])"
   ]
  },
  {
   "cell_type": "code",
   "execution_count": 8,
   "id": "82d6ec58",
   "metadata": {},
   "outputs": [
    {
     "name": "stdout",
     "output_type": "stream",
     "text": [
      "0.11\n",
      "0.309\n"
     ]
    }
   ],
   "source": [
    "def exp(n,times,nshot,way,flip):\n",
    "    shot_times=times*nshot\n",
    "    dqc=QuantumCircuit(n,n)\n",
    "    qc=QuantumCircuit(n+1,1)\n",
    "    c=1\n",
    "    \n",
    "    dqc.measure([i for i in range(n)], [i for i in range(n)])\n",
    "    t=[2*np.arccos(1/(np.sqrt(2))**i) for i in range(2**n)]\n",
    "    for i in range(1,2**n):\n",
    "        for j in range(n):\n",
    "            if format(i, \"b\").zfill(n)[n-1-j]=='0':\n",
    "                qc.x(j)\n",
    "        qc.compose(MCMT(RYGate(t[i]),n,1),range(n+1),inplace=True)\n",
    "        for j in range(n):\n",
    "            if format(i, \"b\").zfill(n)[n-1-j]=='0':\n",
    "                qc.x(j)\n",
    "    qc.measure([n], [0])\n",
    "    #qc.draw()\n",
    "    \n",
    "    device=provider.get_backend('ibmq_16_melbourne')\n",
    "    device=provider.get_backend('ibmq_belem')\n",
    "    if way=='noisy_simulator':\n",
    "        simulator = Aer.get_backend('aer_simulator')\n",
    "        noise1=NoiseModel.from_backend(device)\n",
    "#         noise1= NoiseModel()\n",
    "#         A=np.eye(2)*(1-2*flip)+flip*np.ones((2,2))\n",
    "#         noise1.add_all_qubit_readout_error(ReadoutError(A))\n",
    "        dresult=simulator.run(assemble(transpile(dqc, backend=device,optimization_level=3),\\\n",
    "        shots=shot_times),noise_model=noise1, memory=True).result()\n",
    "        oresult=simulator.run(assemble(transpile(qc, backend=device,optimization_level=3),\\\n",
    "        shots=shot_times),noise_model=noise1, memory=True).result()\n",
    "    elif way=='ibmq':\n",
    "        #device=provider.get_backend('ibmq_belem')\n",
    "        #device = least_busy(provider.backends(simulator=False, operational=True))\n",
    "        dresult=device.run(assemble(transpile(dqc, backend=device,optimization_level=3),\\\n",
    "        shots=shot_times), memory=True).result()\n",
    "        oresult=device.run(assemble(transpile(qc, backend=device,optimization_level=3),\\\n",
    "        shots=shot_times), memory=True).result()\n",
    "    elif way=='simulator':\n",
    "        simulator = Aer.get_backend('qasm_simulator')\n",
    "        dresult=simulator.run(dqc, shots=shot_times, memory=True).result()\n",
    "        oresult=simulator.run(qc, shots=shot_times, memory=True).result()\n",
    "        \n",
    "#     dlist=dresult.get_memory(dqc)\n",
    "#     olist=oresult.get_memory(qc)\n",
    "    dcount=dresult.get_counts(dqc)\n",
    "    ocount=oresult.get_counts(qc)\n",
    "    dlist=count2list(dcount)\n",
    "    olist=count2list(ocount)\n",
    "    derr=[]\n",
    "    oerr=[]\n",
    "    for i in range(times):\n",
    "        dcheck_list=dlist[i:shot_times:times]\n",
    "        ocheck_list=olist[i:shot_times:times]\n",
    "        da1=0\n",
    "        B=0\n",
    "        a=''.join([\"%s\" % 0 for num in range(0, n)])\n",
    "        if a in dcheck_list:\n",
    "            B=dcheck_list.count(a)/nshot\n",
    "            da1=1\n",
    "        A=0\n",
    "        if '0' in ocheck_list:\n",
    "            A=ocheck_list.count('0')/nshot\n",
    "        a1=0\n",
    "        if A>=1/abs(c):\n",
    "            a1=1\n",
    "        ans=1\n",
    "        derr.append(abs(ans-da1))\n",
    "        oerr.append(abs(ans-a1))\n",
    "    return derr,oerr\n",
    "#np.mean(derr),np.mean(oerr),Auncertainty(derr),Auncertainty(oerr)\n",
    "def count2list(c):\n",
    "    l=[]\n",
    "    for i in c.keys():\n",
    "        for j in range(c[i]):\n",
    "            l.append(i)\n",
    "    return l\n",
    "def exp2(n,ltimes,stimes,nshot,way,flip):\n",
    "    d=[]\n",
    "    o=[]\n",
    "    for i in range(ltimes):\n",
    "        a,b=exp(n,stimes,nshot,way,flip)\n",
    "        d=d+a\n",
    "        o=o+b\n",
    "    #return np.mean(d),np.mean(o),Auncertainty(d),Auncertainty(o)\n",
    "    print(np.mean(d))\n",
    "    print(np.mean(o))\n",
    "    ddata={r\"$\\eta$\":flip,\"error rate\":d,r\"$n\":n,\"method\":\"direct\"}\n",
    "    odata={r\"$\\eta$\":flip,\"error rate\":o,r\"$n\":n,\"method\":\"our\"}\n",
    "    ddf=pd.DataFrame(ddata)\n",
    "    odf=pd.DataFrame(odata)\n",
    "    df = ddf.append(odf)\n",
    "    return df\n",
    "def Auncertainty(array):\n",
    "    n=len(array)\n",
    "    return 1.96*np.std(array,ddof=1)/np.sqrt(n)\n",
    "def makedata(n,ltimes,stimes,nshot,way,flip):\n",
    "    data=pd.DataFrame()\n",
    "    if type(flip)==list:\n",
    "        for i in flip:\n",
    "            df=exp2(n,ltimes,stimes,nshot,way,i)\n",
    "            data=data.append(df)\n",
    "    elif type(nshot)==list:\n",
    "        for i in nshot:\n",
    "            df=exp2(n,ltimes,stimes,i,way,flip)\n",
    "            data=data.append(df)\n",
    "    elif type(n)==list:\n",
    "        for i in n:\n",
    "            df=exp2(i,ltimes,stimes,nshot,way,flip)\n",
    "            data=data.append(df)\n",
    "    else:\n",
    "        df=exp2(n,ltimes,stimes,nshot,way,flip)\n",
    "        data=data.append(df)\n",
    "    data.to_csv(\"data-{n}-{ltimes}-{stimes}-{nshot}-{way}-{flip}-{time}.csv\".format(n=n,ltimes=ltimes,stimes=stimes,\\\n",
    "    nshot=nshot,way=way,flip=flip,time=time.time()))\n",
    "    return data\n",
    "def paint(n,ltimes,stimes,nshot,way,flip):\n",
    "    #used when exp2 returns mean and uncertainty\n",
    "    de=[]\n",
    "    oe=[]\n",
    "    db=[]\n",
    "    ob=[]\n",
    "    if type(flip)==list:\n",
    "        for i in flip:\n",
    "            a,b,c,d=exp2(n,ltimes,stimes,nshot,way,i)\n",
    "            de.append(a)\n",
    "            oe.append(b)\n",
    "            db.append(c)\n",
    "            ob.append(d)\n",
    "        plt.errorbar(x=flip, y=de, yerr=db,color='red',label=\"direct\")\n",
    "        plt.errorbar(x=flip, y=oe, yerr=ob,color='blue',label=\"our\")\n",
    "        plt.legend()\n",
    "    elif type(nshot)==list:\n",
    "        for i in nshot:\n",
    "            a,b,c,d=exp2(n,ltimes,stimes,i,way,flip)\n",
    "            de.append(a)\n",
    "            oe.append(b)\n",
    "            db.append(c)\n",
    "            ob.append(d)\n",
    "        plt.errorbar(x=nshot, y=de, yerr=db,color='red',label=\"direct\")\n",
    "        plt.errorbar(x=nshot, y=oe, yerr=ob,color='blue',label=\"our\")\n",
    "        plt.legend()\n",
    "    elif type(n)==list:\n",
    "        for i in n:\n",
    "            a,b,c,d=exp2(i,ltimes,stimes,nshot,way,flip)\n",
    "            de.append(a)\n",
    "            oe.append(b)\n",
    "            db.append(c)\n",
    "            ob.append(d)\n",
    "        plt.errorbar(x=n, y=de, yerr=db,color='red',label=\"direct\")\n",
    "        plt.errorbar(x=n, y=oe, yerr=ob,color='blue',label=\"our\")\n",
    "        plt.legend()\n",
    "    else:\n",
    "        a,b,c,d=exp2(n,ltimes,stimes,nshot,way,flip)\n",
    "        de.append(a)\n",
    "        oe.append(b)\n",
    "        db.append(c)\n",
    "        ob.append(d)\n",
    "    np.savez(\"data-{n}-{ltimes}-{stimes}-{nshot}-{way}-{flip}-{time}\".format(n=n,ltimes=ltimes,stimes=stimes,\\\n",
    "    nshot=nshot,way=way,flip=flip,time=time.time()),de=de,oe=oe,db=db,ob=ob) \n",
    "    return de,oe,db,ob\n",
    "\n",
    "ltimes=1\n",
    "stimes=1000\n",
    "nshot=1\n",
    "flip_interval=[0.01*i for i in range(10)]\n",
    "flip=0.05\n",
    "n_interval=[i for i in range(2,5)]\n",
    "n=10\n",
    "data=makedata(n_interval,ltimes,stimes,nshot,'noisy_simulator',flip);\n",
    "\n",
    "#print(data)\n",
    "#paint(2,ltimes,stimes,nshot,'ibmq',flip)\n",
    "#paint(2,ltimes,stimes,nshot,'qasm_simulator',flip)\n",
    "#paint(2,ltimes,stimes,nshot,'noisy_simulator',flip)"
   ]
  },
  {
   "cell_type": "code",
   "execution_count": null,
   "id": "9a803980",
   "metadata": {},
   "outputs": [],
   "source": [
    "data=makedata(n_interval,ltimes,stimes,nshot,'ibmq',flip);"
   ]
  },
  {
   "cell_type": "code",
   "execution_count": 9,
   "id": "9f21bbcf",
   "metadata": {},
   "outputs": [
    {
     "data": {
      "text/plain": [
       "[<IBMQBackend('ibmqx2') from IBMQ(hub='ibm-q', group='open', project='main')>,\n",
       " <IBMQBackend('ibmq_16_melbourne') from IBMQ(hub='ibm-q', group='open', project='main')>,\n",
       " <IBMQBackend('ibmq_armonk') from IBMQ(hub='ibm-q', group='open', project='main')>,\n",
       " <IBMQBackend('ibmq_athens') from IBMQ(hub='ibm-q', group='open', project='main')>,\n",
       " <IBMQBackend('ibmq_santiago') from IBMQ(hub='ibm-q', group='open', project='main')>,\n",
       " <IBMQBackend('ibmq_lima') from IBMQ(hub='ibm-q', group='open', project='main')>,\n",
       " <IBMQBackend('ibmq_belem') from IBMQ(hub='ibm-q', group='open', project='main')>,\n",
       " <IBMQBackend('ibmq_quito') from IBMQ(hub='ibm-q', group='open', project='main')>]"
      ]
     },
     "execution_count": 9,
     "metadata": {},
     "output_type": "execute_result"
    }
   ],
   "source": [
    "provider.backends(simulator=False, operational=True)"
   ]
  },
  {
   "cell_type": "code",
   "execution_count": 12,
   "id": "077da3ae",
   "metadata": {},
   "outputs": [
    {
     "data": {
      "text/plain": [
       "[<IBMQBackend('ibmqx2') from IBMQ(hub='ibm-q', group='open', project='main')>,\n",
       " <IBMQBackend('ibmq_16_melbourne') from IBMQ(hub='ibm-q', group='open', project='main')>,\n",
       " <IBMQBackend('ibmq_athens') from IBMQ(hub='ibm-q', group='open', project='main')>,\n",
       " <IBMQBackend('ibmq_santiago') from IBMQ(hub='ibm-q', group='open', project='main')>,\n",
       " <IBMQBackend('ibmq_lima') from IBMQ(hub='ibm-q', group='open', project='main')>,\n",
       " <IBMQBackend('ibmq_belem') from IBMQ(hub='ibm-q', group='open', project='main')>,\n",
       " <IBMQBackend('ibmq_quito') from IBMQ(hub='ibm-q', group='open', project='main')>]"
      ]
     },
     "execution_count": 12,
     "metadata": {},
     "output_type": "execute_result"
    }
   ],
   "source": [
    "provider.backends(filters=lambda x: x.configuration().n_qubits >= 5\n",
    "                                    and not x.configuration().simulator\n",
    "                                    and x.status().operational==True)"
   ]
  },
  {
   "cell_type": "code",
   "execution_count": null,
   "id": "d70fb8f4",
   "metadata": {},
   "outputs": [],
   "source": []
  },
  {
   "cell_type": "code",
   "execution_count": null,
   "id": "10ea6703",
   "metadata": {},
   "outputs": [],
   "source": []
  },
  {
   "cell_type": "code",
   "execution_count": null,
   "id": "ca3bd747",
   "metadata": {},
   "outputs": [],
   "source": []
  },
  {
   "cell_type": "code",
   "execution_count": null,
   "id": "fe3cbbfc",
   "metadata": {},
   "outputs": [],
   "source": []
  },
  {
   "cell_type": "code",
   "execution_count": null,
   "id": "ec5d77d0",
   "metadata": {},
   "outputs": [],
   "source": []
  },
  {
   "cell_type": "code",
   "execution_count": null,
   "id": "900d6923",
   "metadata": {},
   "outputs": [],
   "source": []
  },
  {
   "cell_type": "code",
   "execution_count": null,
   "id": "c6dc61f6",
   "metadata": {},
   "outputs": [],
   "source": []
  }
 ],
 "metadata": {
  "kernelspec": {
   "display_name": "Python 3",
   "language": "python",
   "name": "python3"
  },
  "language_info": {
   "codemirror_mode": {
    "name": "ipython",
    "version": 3
   },
   "file_extension": ".py",
   "mimetype": "text/x-python",
   "name": "python",
   "nbconvert_exporter": "python",
   "pygments_lexer": "ipython3",
   "version": "3.8.8"
  }
 },
 "nbformat": 4,
 "nbformat_minor": 5
}
